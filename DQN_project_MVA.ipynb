{
 "cells": [
  {
   "cell_type": "markdown",
   "metadata": {},
   "source": [
    "**You may need to install [OpenCV](https://pypi.python.org/pypi/opencv-python) and [scikit-video](http://www.scikit-video.org/stable/).**"
   ]
  },
  {
   "cell_type": "code",
   "execution_count": 55,
   "metadata": {
    "collapsed": false
   },
   "outputs": [],
   "source": [
    "import keras\n",
    "import numpy as np\n",
    "import io\n",
    "import base64\n",
    "from IPython.display import HTML\n",
    "import skvideo.io\n",
    "import cv2\n",
    "import json\n",
    "\n",
    "from keras.models import Sequential,model_from_json\n",
    "from keras.layers.core import Dense\n",
    "from keras.optimizers import sgd\n",
    "from keras.layers import Conv2D, MaxPooling2D, Activation, AveragePooling2D,Reshape,BatchNormalization"
   ]
  },
  {
   "cell_type": "markdown",
   "metadata": {},
   "source": [
    "# MiniProject #3: Deep Reinforcement Learning"
   ]
  },
  {
   "cell_type": "markdown",
   "metadata": {},
   "source": [
    "__Notations__: $E_p$ is the expectation under probability $p$. Please justify each of your answer and widely comment your code."
   ]
  },
  {
   "cell_type": "markdown",
   "metadata": {},
   "source": [
    "# Context"
   ]
  },
  {
   "cell_type": "markdown",
   "metadata": {},
   "source": [
    "In a reinforcement learning algorithm, we modelize each step $t$ as an action $a_t$ obtained from a state $s_t$, i.e. $\\{(a_{t},s_{t})_{t\\leq T}\\}$ having the Markov property. We consider a discount factor $\\gamma \\in [0,1]$ that ensures convergence. The goal is to find among all the policies $\\pi$, one that maximizes the expected reward:\n",
    "\n",
    "\\begin{equation*}\n",
    "R(\\pi)=\\sum_{t\\leq T}E_{p^{\\pi}}[\\gamma^t r(s_{t},a_{t})] \\> ,\n",
    "\\end{equation*}\n",
    "\n",
    "where: \n",
    "\\begin{equation*}p^{\\pi}(a_{0},a_{1},s_{1},...,a_{T},s_{T})=p(a_{0})\\prod_{t=1}^{T}\\pi(a_{t}|s_{t})p(s_{t+1}|s_{t},a_{t}) \\> .\n",
    "\\end{equation*}\n",
    "\n",
    "We note the $Q$-function:\n",
    "\n",
    "\\begin{equation*}Q^\\pi(s,a)=E_{p^{\\pi}}[\\sum_{t\\leq T}\\gamma^{t}r(s_{t},a_{t})|s_{0}=s,a_{0}=a] \\> .\n",
    "\\end{equation*}\n",
    "\n",
    "Thus, the optimal Q function is:\n",
    "\\begin{equation*}\n",
    "Q^*(s,a)=\\max_{\\pi}Q^\\pi(s,a) \\> .\n",
    "\\end{equation*}\n",
    "\n",
    "In this project, we will apply the deep reinforcement learning techniques to a simple game: an agent will have to learn from scratch a policy that will permit it maximizing a reward."
   ]
  },
  {
   "cell_type": "markdown",
   "metadata": {},
   "source": [
    "## The environment, the agent and the game"
   ]
  },
  {
   "cell_type": "markdown",
   "metadata": {},
   "source": [
    "### The environment"
   ]
  },
  {
   "cell_type": "markdown",
   "metadata": {},
   "source": [
    "```Environment``` is an abstract class that represents the states, rewards, and actions to obtain the new state."
   ]
  },
  {
   "cell_type": "code",
   "execution_count": 56,
   "metadata": {
    "collapsed": true
   },
   "outputs": [],
   "source": [
    "class Environment(object):\n",
    "    def __init__(self):\n",
    "        pass\n",
    "\n",
    "    def act(self, act):\n",
    "        \"\"\"\n",
    "        One can act on the environment and obtain its reaction:\n",
    "        - the new state\n",
    "        - the reward of the new state\n",
    "        - should we continue the game?\n",
    "\n",
    "        :return: state, reward, game_over\n",
    "        \"\"\"\n",
    "        pass\n",
    "\n",
    "\n",
    "    def reset(self):\n",
    "        \"\"\"\n",
    "        Reinitialize the environment to a random state and returns\n",
    "        the original state\n",
    "\n",
    "        :return: state\n",
    "        \"\"\"\n",
    "        pass\n",
    "    \n",
    "    def draw(self):\n",
    "        \"\"\"\n",
    "        Visualize in the console or graphically the current state\n",
    "        \"\"\"\n",
    "        pass"
   ]
  },
  {
   "cell_type": "markdown",
   "metadata": {},
   "source": [
    "The method ```act``` allows to act on the environment at a given state $s_t$ (stored internally), via action $a_t$. The method will return the new state $s_{t+1}$, the reward $r(s_{t},a_{t})$ and determines if $t\\leq T$ (*game_over*).\n",
    "\n",
    "The method ```reset``` simply reinitializes the environment to a random state $s_0$.\n",
    "\n",
    "The method ```draw``` displays the current state $s_t$ (this is useful to check the behavior of the Agent).\n",
    "\n",
    "We modelize $s_t$ as a tensor, while $a_t$ is an integer."
   ]
  },
  {
   "cell_type": "markdown",
   "metadata": {},
   "source": [
    "### The Agent"
   ]
  },
  {
   "cell_type": "markdown",
   "metadata": {},
   "source": [
    "The goal of the ```Agent``` is to interact with the ```Environment``` by proposing actions $a_t$ obtained from a given state $s_t$ to attempt to maximize its __reward__ $r(s_t,a_t)$. We propose the following abstract class:"
   ]
  },
  {
   "cell_type": "code",
   "execution_count": 57,
   "metadata": {
    "collapsed": true
   },
   "outputs": [],
   "source": [
    "class Agent(object):\n",
    "    def __init__(self, epsilon=0.1, n_action=4):\n",
    "        self.epsilon = epsilon\n",
    "        self.n_action = n_action\n",
    "    \n",
    "    def set_epsilon(self,e):\n",
    "        self.epsilon = e\n",
    "        \n",
    "    def get_epsilon(self):\n",
    "        return self.epsilon\n",
    "\n",
    "    def act(self,s,train=True):\n",
    "        \"\"\" This function should return the next action to do:\n",
    "        an integer between 0 and 4 (not included) with a random exploration of epsilon\"\"\"\n",
    "        if train:\n",
    "            if np.random.rand() <= self.epsilon:\n",
    "                a = np.random.randint(0, self.n_action, size=1)[0]\n",
    "            else:\n",
    "                a = self.learned_act(s)\n",
    "        else: # in some cases, this can improve the performance.. remove it if poor performances\n",
    "            a = self.learned_act(s)\n",
    "\n",
    "        return a\n",
    "\n",
    "    def learned_act(self,s):\n",
    "        \"\"\" Act via the policy of the agent, from a given state s\n",
    "        it proposes an action a\"\"\"\n",
    "        pass\n",
    "\n",
    "    def reinforce(self, s, n_s, a, r, game_over_):\n",
    "        \"\"\" This function is the core of the learning algorithm. \n",
    "        It takes as an input the current state s_, the next state n_s_\n",
    "        the action a_ used to move from s_ to n_s_ and the reward r_.\n",
    "        \n",
    "        Its goal is to learn a policy.\n",
    "        \"\"\"\n",
    "        pass\n",
    "\n",
    "    def save(self):\n",
    "        \"\"\" This function returns basic stats if applicable: the\n",
    "        loss and/or the model\"\"\"\n",
    "        pass\n",
    "\n",
    "    def load(self):\n",
    "        \"\"\" This function allows to restore a model\"\"\"\n",
    "        pass"
   ]
  },
  {
   "cell_type": "markdown",
   "metadata": {},
   "source": [
    "***\n",
    "__Question 1__:\n",
    "Explain the function act. Why is ```epsilon``` essential?"
   ]
  },
  {
   "cell_type": "markdown",
   "metadata": {},
   "source": [
    "The function act here determines action that will be taken by the agent based on current state where it is at. The function act behaves more like the exploration-exploitation arm of the agent where it picks a random action from all the posibble actions at \n",
    "hand if it is still training. \n",
    "\n",
    "The standard way to get exploration is to introduce an additional term, epsilon. We then randomly generate a value, and if that value is less than epsilon, a random action is chosen, otherwise we follow the normal tactic of choosing the max Q value, in other words we use the notion of exploitation.\n",
    "\n",
    "$$ a^{*} = argmax_{a} Q^{\\pi} (s , a) $$\n",
    "\n",
    "Based on condition of epsilon it will explore or exploit the curent policy. The epsilon here acts as the measure that decides the tradeoff between exploration and exploiation. Basically this is implementing the epsilon-greedy approach by fixing an epsilon to decide the exploration the training model will do in order to avoid getting stuck at local optimum, here in our code we have defined the epsoilon to be 0.1 and whenever a random number is less than equal to 0.1 we explore and take a random path. If we increase or decrease epsilon it will increase or decrease our exploration."
   ]
  },
  {
   "cell_type": "markdown",
   "metadata": {},
   "source": [
    "***\n",
    "### The Game"
   ]
  },
  {
   "cell_type": "markdown",
   "metadata": {},
   "source": [
    "The ```Agent``` and the ```Environment``` work in an interlaced way as in the following (take some time to understand this code as it is the core of the project)\n",
    "\n",
    "```python\n",
    "\n",
    "epoch = 300\n",
    "env = Environment()\n",
    "agent = Agent()\n",
    "\n",
    "\n",
    "# Number of won games\n",
    "score = 0\n",
    "loss = 0\n",
    "\n",
    "\n",
    "for e in range(epoch):\n",
    "    # At each epoch, we restart to a fresh game and get the initial state\n",
    "    state = env.reset()\n",
    "    # This assumes that the games will end\n",
    "    game_over = False\n",
    "\n",
    "    win = 0\n",
    "    lose = 0\n",
    "    \n",
    "    while not game_over:\n",
    "        # The agent performs an action\n",
    "        action = agent.act(state)\n",
    "\n",
    "        # Apply an action to the environment, get the next state, the reward\n",
    "        # and if the games end\n",
    "        prev_state = state\n",
    "        state, reward, game_over = env.act(action)\n",
    "\n",
    "        # Update the counters\n",
    "        if reward > 0:\n",
    "            win = win + reward\n",
    "        if reward < 0:\n",
    "            lose = lose -reward\n",
    "\n",
    "        # Apply the reinforcement strategy\n",
    "        loss = agent.reinforce(prev_state, state,  action, reward, game_over)\n",
    "\n",
    "    # Save as a mp4\n",
    "    if e % 10 == 0:\n",
    "        env.draw(e)\n",
    "\n",
    "    # Update stats\n",
    "    score += win-lose\n",
    "\n",
    "    print(\"Epoch {:03d}/{:03d} | Loss {:.4f} | Win/lose count {}/{} ({})\"\n",
    "          .format(e, epoch, loss, win, lose, win-lose))\n",
    "    agent.save()\n",
    "```"
   ]
  },
  {
   "cell_type": "markdown",
   "metadata": {},
   "source": [
    "# The game, *eat cheese*"
   ]
  },
  {
   "cell_type": "markdown",
   "metadata": {},
   "source": [
    "A rat runs on an island and tries to eat as much as possible. The island is subdivided into $N\\times N$ cells, in which there are cheese (+0.5) and poisonous cells (-1). The rat has a visibility of 2 cells (thus it can see $5^2$ cells). The rat is given a time $T$ to accumulate as much food as possible. It can perform 4 actions: going up, down, left, right. \n",
    "\n",
    "The goal is to code an agent to solve this task that will learn by trial and error. We propose the following environment:"
   ]
  },
  {
   "cell_type": "code",
   "execution_count": 58,
   "metadata": {
    "collapsed": true
   },
   "outputs": [],
   "source": [
    "class Environment(object):\n",
    "    def __init__(self, grid_size=10, max_time=500, temperature=0.1):\n",
    "        grid_size = grid_size+4\n",
    "        self.grid_size = grid_size\n",
    "        self.max_time = max_time\n",
    "        self.temperature = temperature\n",
    "\n",
    "        #board on which one plays\n",
    "        self.board = np.zeros((grid_size,grid_size))\n",
    "        self.position = np.zeros((grid_size,grid_size))\n",
    "\n",
    "        # coordinate of the cat\n",
    "        self.x = 0\n",
    "        self.y = 1\n",
    "\n",
    "        # self time\n",
    "        self.t = 0\n",
    "\n",
    "        self.scale=16\n",
    "\n",
    "        self.to_draw = np.zeros((max_time+2, grid_size*self.scale, grid_size*self.scale, 3))\n",
    "\n",
    "\n",
    "    def draw(self,e):\n",
    "        skvideo.io.vwrite(str(e) + '.mp4', self.to_draw)\n",
    "\n",
    "    def get_frame(self,t):\n",
    "        b = np.zeros((self.grid_size,self.grid_size,3))+128\n",
    "        b[self.board>0,0] = 256\n",
    "        b[self.board < 0, 2] = 256\n",
    "        b[self.x,self.y,:]=256\n",
    "        b[-2:,:,:]=0\n",
    "        b[:,-2:,:]=0\n",
    "        b[:2,:,:]=0\n",
    "        b[:,:2,:]=0\n",
    "        \n",
    "        b =  cv2.resize(b, None, fx=self.scale, fy=self.scale, interpolation=cv2.INTER_NEAREST)\n",
    "\n",
    "        self.to_draw[t,:,:,:]=b\n",
    "\n",
    "\n",
    "    def act(self, action):\n",
    "        \"\"\"This function returns the new state, reward and decides if the\n",
    "        game ends.\"\"\"\n",
    "\n",
    "        self.get_frame(int(self.t))\n",
    "\n",
    "        self.position = np.zeros((self.grid_size, self.grid_size))\n",
    "\n",
    "        self.position[0:2,:]= -1\n",
    "        self.position[:,0:2] = -1\n",
    "        self.position[-2:, :] = -1\n",
    "        self.position[-2:, :] = -1\n",
    "\n",
    "        self.position[self.x, self.y] = 1\n",
    "        if action == 0:\n",
    "            if self.x == self.grid_size-3:\n",
    "                self.x = self.x-1\n",
    "            else:\n",
    "                self.x = self.x + 1\n",
    "        elif action == 1:\n",
    "            if self.x == 2:\n",
    "                self.x = self.x+1\n",
    "            else:\n",
    "                self.x = self.x-1\n",
    "        elif action == 2:\n",
    "            if self.y == self.grid_size - 3:\n",
    "                self.y = self.y - 1\n",
    "            else:\n",
    "                self.y = self.y + 1\n",
    "        elif action == 3:\n",
    "            if self.y == 2:\n",
    "                self.y = self.y + 1\n",
    "            else:\n",
    "                self.y = self.y - 1\n",
    "        else:\n",
    "            RuntimeError('Error: action not recognized')\n",
    "\n",
    "        self.t = self.t + 1\n",
    "        reward = self.board[self.x, self.y]\n",
    "        self.board[self.x, self.y] = 0\n",
    "        game_over = self.t > self.max_time\n",
    "        state = np.concatenate((self.board.reshape(self.grid_size, self.grid_size,1),\n",
    "                        self.position.reshape(self.grid_size, self.grid_size,1)),axis=2)\n",
    "        state = state[self.x-2:self.x+3,self.y-2:self.y+3,:]\n",
    "\n",
    "        return state, reward, game_over\n",
    "\n",
    "    def reset(self):\n",
    "        \"\"\"This function resets the game and returns the initial state\"\"\"\n",
    "\n",
    "        self.x = np.random.randint(3, self.grid_size-3, size=1)[0]\n",
    "        self.y = np.random.randint(3, self.grid_size-3, size=1)[0]\n",
    "\n",
    "\n",
    "        bonus = 0.5*np.random.binomial(1,self.temperature,size=self.grid_size**2)\n",
    "        bonus = bonus.reshape(self.grid_size,self.grid_size)\n",
    "\n",
    "        malus = -1.0*np.random.binomial(1,self.temperature,size=self.grid_size**2)\n",
    "        malus = malus.reshape(self.grid_size, self.grid_size)\n",
    "\n",
    "        self.to_draw = np.zeros((self.max_time+2, self.grid_size*self.scale, self.grid_size*self.scale, 3))\n",
    "\n",
    "\n",
    "        malus[bonus>0]=0\n",
    "\n",
    "        self.board = bonus + malus\n",
    "\n",
    "        self.position = np.zeros((self.grid_size, self.grid_size))\n",
    "        self.position[0:2,:]= -1\n",
    "        self.position[:,0:2] = -1\n",
    "        self.position[-2:, :] = -1\n",
    "        self.position[-2:, :] = -1\n",
    "        self.board[self.x,self.y] = 0\n",
    "        self.t = 0\n",
    "\n",
    "        state = np.concatenate((\n",
    "                               self.board.reshape(self.grid_size, self.grid_size,1),\n",
    "                        self.position.reshape(self.grid_size, self.grid_size,1)),axis=2)\n",
    "\n",
    "        state = state[self.x - 2:self.x + 3, self.y - 2:self.y + 3, :]\n",
    "        return state"
   ]
  },
  {
   "cell_type": "markdown",
   "metadata": {},
   "source": [
    "The following elements are important because they correspond to the hyper parameters for this project:"
   ]
  },
  {
   "cell_type": "code",
   "execution_count": 59,
   "metadata": {
    "collapsed": false
   },
   "outputs": [],
   "source": [
    "# parameters\n",
    "size = 13\n",
    "T=200\n",
    "temperature=0.3\n",
    "epochs_train=10 # set small when debugging\n",
    "epochs_test=10 # set small when debugging\n",
    "\n",
    "# display videos\n",
    "def display_videos(name):\n",
    "    video = io.open(name, 'r+b').read()\n",
    "    encoded = base64.b64encode(video)\n",
    "    return '''<video alt=\"test\" controls>\n",
    "                <source src=\"data:video/mp4;base64,{0}\" type=\"video/mp4\" />\n",
    "             </video>'''.format(encoded.decode('ascii'))"
   ]
  },
  {
   "cell_type": "markdown",
   "metadata": {},
   "source": [
    "__Question 2__ Explain the use of the arrays ```position``` and ```board```."
   ]
  },
  {
   "cell_type": "markdown",
   "metadata": {},
   "source": [
    "position is the array that contains the position of the rat on the board at a given time. The array is updated for each call of the function act by setting to zeros all the elements. There are two -1 cells thickness on the borders, reprenting where the rat can't go. That's why we added +4 to the grid size, allowing some place for these borders.The goal of the array is to keep track of the position of the mouse and give information about its playground.\n",
    "\n",
    "board is the array that consists of the board on which the rat moves around. It is a matrix used to define the environment. Each of it cells is either neutral or represents the presence of the cheese or the poisonous cells. There informations represents the reward of each action and are represented by respectively 0, 0.5 and -1. The distribution of the reward (0.5 and -1) follows a binomial law that is defined is the reset function."
   ]
  },
  {
   "cell_type": "markdown",
   "metadata": {},
   "source": [
    "## Random Agent"
   ]
  },
  {
   "cell_type": "markdown",
   "metadata": {},
   "source": [
    "***\n",
    "__Question 3__ Implement a random Agent (only ```learned_act``` needs to be implemented):"
   ]
  },
  {
   "cell_type": "code",
   "execution_count": 60,
   "metadata": {
    "collapsed": true
   },
   "outputs": [],
   "source": [
    "class RandomAgent(Agent):\n",
    "    def __init__(self):\n",
    "        super(RandomAgent, self).__init__()\n",
    "        pass\n",
    "\n",
    "    def learned_act(self, s):\n",
    "        a = np.random.randint(0, self.n_action, size=1)[0]\n",
    "        return a \n",
    "        pass"
   ]
  },
  {
   "cell_type": "markdown",
   "metadata": {},
   "source": [
    "***\n",
    "***\n",
    "__Question 4__ Visualize the game moves. You need to fill in the following function for the evaluation:"
   ]
  },
  {
   "cell_type": "code",
   "execution_count": 61,
   "metadata": {
    "collapsed": false
   },
   "outputs": [],
   "source": [
    "def test(agent,env,epochs,prefix=''):\n",
    "    # Number of won games\n",
    "    score = 0\n",
    "        \n",
    "    for e in range(epochs):\n",
    "        \n",
    "        # At each epoch, we restart to a fresh game and get the initial state\n",
    "        state = env.reset()\n",
    "        # This assumes that the games will end\n",
    "        game_over = False\n",
    "\n",
    "        win = 0\n",
    "        lose = 0\n",
    "\n",
    "        while not game_over:\n",
    "        # The agent performs an action\n",
    "            action = agent.act(state)\n",
    "\n",
    "        # Apply an action to the environment, get the next state, the reward\n",
    "        # and if the games end\n",
    "            prev_state = state\n",
    "            state, reward, game_over = env.act(action)\n",
    "\n",
    "        # Update the counters\n",
    "            if reward > 0:\n",
    "                win = win + reward\n",
    "            if reward < 0:\n",
    "                lose = lose -reward\n",
    "\n",
    "        # Apply the reinforcement strategy\n",
    "            loss = agent.reinforce(prev_state, state,  action, reward, game_over)\n",
    "\n",
    "        \n",
    "        ##### FILL IN HERE\n",
    "        \n",
    "        # Save as a mp4\n",
    "        env.draw(prefix+str(e))\n",
    "\n",
    "        # Update stats\n",
    "        score = score + win-lose\n",
    "\n",
    "        print(\"Win/lose count {}/{}. Average score ({})\"\n",
    "              .format(win, lose, score/(1+e)))\n",
    "    print('Final score: '+str(score/epochs))"
   ]
  },
  {
   "cell_type": "code",
   "execution_count": 62,
   "metadata": {
    "collapsed": false
   },
   "outputs": [
    {
     "name": "stdout",
     "output_type": "stream",
     "text": [
      "Win/lose count 19.0/39.0. Average score (-20.0)\n",
      "Win/lose count 26.5/35.0. Average score (-14.25)\n",
      "Win/lose count 28.0/39.0. Average score (-13.166666666666666)\n",
      "Win/lose count 26.5/32.0. Average score (-11.25)\n",
      "Win/lose count 28.0/35.0. Average score (-10.4)\n",
      "Win/lose count 29.5/30.0. Average score (-8.75)\n",
      "Win/lose count 25.5/32.0. Average score (-8.428571428571429)\n",
      "Win/lose count 22.5/35.0. Average score (-8.9375)\n",
      "Win/lose count 27.5/33.0. Average score (-8.555555555555555)\n",
      "Win/lose count 28.5/27.0. Average score (-7.55)\n",
      "Final score: -7.55\n"
     ]
    },
    {
     "data": {
      "text/html": [
       "<video alt=\"test\" controls>\n",
       "                <source src=\"data:video/mp4;base64,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\" type=\"video/mp4\" />\n",
       "             </video>"
      ],
      "text/plain": [
       "<IPython.core.display.HTML object>"
      ]
     },
     "execution_count": 62,
     "metadata": {},
     "output_type": "execute_result"
    }
   ],
   "source": [
    "# Initialize the game\n",
    "env = Environment(grid_size=size, max_time=2000,temperature=temperature)\n",
    "\n",
    "# Initialize the agent!\n",
    "agent = RandomAgent()\n",
    "\n",
    "test(agent,env,epochs_test,prefix='random')\n",
    "HTML(display_videos('random0.mp4'))"
   ]
  },
  {
   "cell_type": "markdown",
   "metadata": {},
   "source": [
    "***\n",
    "## DQN"
   ]
  },
  {
   "cell_type": "markdown",
   "metadata": {},
   "source": [
    "Let us assume here that $T=\\infty$.\n",
    "\n",
    "***\n",
    "__Question 5__ Let $\\pi$ be a policy, show that:\n",
    "\n",
    "\\begin{equation*}\n",
    "Q^{\\pi}(s,a)=E_{(s',a')\\sim p(.|s,a)}[r(s,a)+\\gamma Q^{\\pi}(s',a')]\n",
    "\\end{equation*}\n",
    "\n",
    "Then, show that for the optimal policy $\\pi^*$ (we assume its existence), the following holds: \n",
    "\n",
    "\\begin{equation*}\n",
    "Q^{*}(s,a)=E_{s'\\sim \\pi^*(.|s,a)}[r(s,a)+\\gamma\\max_{a'}Q^{*}(s',a')].\n",
    "\\end{equation*}\n",
    "Finally, deduce that a plausible objective is:\n",
    "\n",
    "\\begin{equation*}\n",
    "\\mathcal{L}(\\theta)=E_{s' \\sim \\pi^*(.|s,a)}\\Vert r+\\gamma\\max\\max_{a'}Q(s',a',\\theta)-Q(s,a,\\theta)\\Vert^{2}.\n",
    "\\end{equation*}\n",
    "\n",
    "\n"
   ]
  },
  {
   "cell_type": "markdown",
   "metadata": {},
   "source": [
    "By definition of the action-value of a policy $\\pi$, we have :\n",
    "\n",
    "$Q^\\pi(s,a)$\n",
    "$Q^\\pi(s,a) = E_\\pi \\Big[ \\overset{\\infty}{\\underset{k=0}{\\sum}} \\gamma^k r_{t+k} \\Big| s_t = s, a_t = a \\Big]$\n",
    "\n",
    "$= E\\Big[r(s,a) + \\overset{\\infty}{\\underset{k=1}{\\sum}} \\gamma^k r_{t+k} \\Big| s_t = s, a_t = a\\Big]$\n",
    "\n",
    "$ =  r(s,a) + \\gamma E\\left[E\\left[\\overset{\\infty}{\\underset{k=0}{\\sum}}[\\gamma^k r_{t+1+k}|s_{t+1}=s',a_{t+1}=a'\\right]|s_t = s, a_t = a\\right]$\n",
    "\n",
    "$ = r(s,a) + \\gamma \\underset{(s',a')}{\\sum}(p(s_{t+1}=s',a_{t+1}=a' |s_t = s, a_t = a ))*E[\\overset{\\infty}{\\underset{k=0}{\\sum}}\\gamma^k r_{t+1+k}|s_{t+1}=s',a_{t+1}=a']$\n",
    "\n",
    "$ =  \\underset{(s',a')}{\\sum} (p(s_{t+1}=s',a_{t+1}=a' |s_t = s, a_t = a ) r(s,a) + \\underset{(s',a')}{\\sum}(p(s_{t+1}=s',a_{t+1}=a' |s_t = s, a_t = a ))E[\\sum_{k=0}^{\\infty}\\gamma^k r_{t+1+k}|s_{t+1}=s',a_{t+1}=a']$\n",
    "\n",
    "$= E_{(s',a')\\sim p(.|s,a)}[r(s,a)+\\gamma Q^{\\pi}(s',a')]$\n",
    "\n",
    "$~$\n",
    "$~$\n",
    "\n",
    "$Q^*(s,a)$\n",
    "$Q^*(s,a) = \\underset{(a',\\pi')}{\\max}\\left[E_{(s',a')\\sim p(.|s,a)}\\left(r(s,a)+\\gamma Q^{(a',\\pi')}(s',a')\\right)\\right] $\n",
    "\n",
    "$ = \\underset{(a',\\pi')}{\\max}\\left[r(s,a) + \\gamma \\sum(p(s_{t+1}=s' |s_t = s, a_t = a )Q^{(a',\\pi')}(s',a')\\right]$\n",
    "\n",
    "$= r(s,a) + \\gamma * \\underset{(a',\\pi')}{\\max}\\left[ \\sum(p(s_{t+1}=s' |s_t = s, a_t = a )Q^{(a',\\pi')}(s',a')\\right] $\n",
    "\n",
    "$~$ $~$\n",
    "\n",
    "Rewriting $Q^{*}(s,a)$ $Q^{*}(s,a) = r(s,a) + \\gamma  \\overset{\\infty}{\\underset{k=0}{\\sum}}(p(s_{t+1}=s' |s_t = s, a_t = a )\\underset{a'}{\\max}\\underset{\\pi'}{\\max}Q^{\\pi'}(s',a') $ "
   ]
  },
  {
   "cell_type": "markdown",
   "metadata": {},
   "source": [
    "***\n",
    "The DQN-learning algorithm relies on these derivations to train the parameters $\\theta$ of a Deep Neural Network:\n",
    "\n",
    "1. At the state $s_t$, select the action $a_t$ with best reward using $Q_t$ and store the results;\n",
    "\n",
    "2. Obtain the new state $s_{t+1}$ from the environment $p$;\n",
    "\n",
    "3. Store $(s_t,a_t,s_{t+1})$;\n",
    "\n",
    "4. Obtain $Q_{t+1}$ by minimizing  $\\mathcal{L}$ from a recovered batch from the previously stored results.\n",
    "\n",
    "***\n",
    "__Question 6__ Implement the class ```Memory``` that stores moves (in a replay buffer) via ```remember``` and provides a ```random_access``` to these. Specify a maximum memory size to avoid side effects. You can for example use a ```list()``` and set by default ```max_memory=100```."
   ]
  },
  {
   "cell_type": "code",
   "execution_count": 63,
   "metadata": {
    "collapsed": true
   },
   "outputs": [],
   "source": [
    "class Memory(object):\n",
    "    def __init__(self, max_memory=100):\n",
    "        self.max_memory = max_memory\n",
    "        self.memory = list()\n",
    "\n",
    "    def remember(self, m):\n",
    "        self.memory.append(m)\n",
    "        if len(self.memory) > self.max_memory:\n",
    "            self.memory.pop(0)\n",
    "\n",
    "    def random_access(self):\n",
    "        id_random = np.random.randint(len(self.memory))\n",
    "        return self.memory[id_random]"
   ]
  },
  {
   "cell_type": "markdown",
   "metadata": {},
   "source": [
    "***\n",
    "The pipeline we will use for training is given below:"
   ]
  },
  {
   "cell_type": "code",
   "execution_count": 64,
   "metadata": {
    "collapsed": true
   },
   "outputs": [],
   "source": [
    "def train(agent,env,epoch,prefix=''):\n",
    "    # Number of won games\n",
    "    score = 0\n",
    "    loss = 0\n",
    "\n",
    "    for e in range(epoch):\n",
    "        # At each epoch, we restart to a fresh game and get the initial state\n",
    "        state = env.reset()\n",
    "        # This assumes that the games will terminate\n",
    "        game_over = False\n",
    "\n",
    "        win = 0\n",
    "        lose = 0\n",
    "\n",
    "        while not game_over:\n",
    "            # The agent performs an action\n",
    "            action = agent.act(state)\n",
    "\n",
    "            # Apply an action to the environment, get the next state, the reward\n",
    "            # and if the games end\n",
    "            prev_state = state\n",
    "            state, reward, game_over = env.act(action)\n",
    "\n",
    "            # Update the counters\n",
    "            if reward > 0:\n",
    "                win = win + reward\n",
    "            if reward < 0:\n",
    "                lose = lose -reward\n",
    "\n",
    "            # Apply the reinforcement strategy\n",
    "            loss = agent.reinforce(prev_state, state,  action, reward, game_over)\n",
    "\n",
    "        # Save as a mp4\n",
    "        if e % 10 == 0:\n",
    "            env.draw(prefix+str(e))\n",
    "\n",
    "        # Update stats\n",
    "        score += win-lose\n",
    "\n",
    "        print(\"Epoch {:03d}/{:03d} | Loss {:.4f} | Win/lose count {}/{} ({})\"\n",
    "              .format(e, epoch, loss, win, lose, win-lose))\n",
    "        agent.save(name_weights=prefix+'model.h5',name_model=prefix+'model.json')"
   ]
  },
  {
   "cell_type": "markdown",
   "metadata": {},
   "source": [
    "***\n",
    "__Question 7__ Implement the DQN training algorithm using a cascade of fully connected layers. You can use different learning rate, batch size or memory size parameters. In particular, the loss might oscillate while the player will start to win the games. You have to find a good criterium."
   ]
  },
  {
   "cell_type": "code",
   "execution_count": 65,
   "metadata": {
    "collapsed": true
   },
   "outputs": [],
   "source": [
    "class DQN(Agent):\n",
    "    def __init__(self, grid_size,  epsilon = 0.1, memory_size=100, batch_size = 16,n_state=2):\n",
    "        super(DQN, self).__init__(epsilon = epsilon)\n",
    "\n",
    "        # Discount for Q learning\n",
    "        self.discount = 0.99\n",
    "        \n",
    "        self.grid_size = grid_size\n",
    "        \n",
    "        # number of state\n",
    "        self.n_state = n_state\n",
    "\n",
    "        # Memory\n",
    "        self.memory = Memory(memory_size)\n",
    "        \n",
    "        # Batch size when learning\n",
    "        self.batch_size = batch_size\n",
    "\n",
    "    def learned_act(self, s):\n",
    "        actions = self.model.predict(np.expand_dims(s, 0))\n",
    "        id_max = np.argmax(actions)\n",
    "        return id_max\n",
    "\n",
    "    def reinforce(self, s_, n_s_, a_, r_, game_over_):\n",
    "        # Two steps: first memorize the states, second learn from the pool\n",
    "\n",
    "        self.memory.remember([s_, n_s_, a_, r_, game_over_])\n",
    "        \n",
    "        input_states = np.zeros((self.batch_size, 5,5,self.n_state))\n",
    "        target_q = np.zeros((self.batch_size, 4))\n",
    "        \n",
    "        for i in range(self.batch_size):\n",
    "            s_, n_s_, a_, r_, game_over_  = self.memory.random_access()\n",
    "            \n",
    "            actions = self.model.predict(np.expand_dims(s_, 0))\n",
    "            value_max_action = np.max(actions)\n",
    "            \n",
    "            target_q[i] = actions\n",
    "            \n",
    "            if game_over_:\n",
    "                input_states[i] = s_\n",
    "                target_q[i,a_] = r_\n",
    "            else:\n",
    "                input_states[i] = s_\n",
    "                target_q[i,a_] = r_  + self.discount * value_max_action        # HINT: Clip the target to avoid exploiding gradients.. -- clipping is a bit tighter\n",
    "        target_q = np.clip(target_q, -3, 3)\n",
    "\n",
    "        l = self.model.train_on_batch(input_states, target_q)\n",
    "\n",
    "\n",
    "        return l\n",
    "\n",
    "    def save(self,name_weights='model.h5',name_model='model.json'):\n",
    "        self.model.save_weights(name_weights, overwrite=True)\n",
    "        with open(name_model, \"w\") as outfile:\n",
    "            json.dump(self.model.to_json(), outfile)\n",
    "            \n",
    "    def load(self,name_weights='model.h5',name_model='model.json'):\n",
    "        with open(name_model, \"r\") as jfile:\n",
    "            model = model_from_json(json.load(jfile))\n",
    "        model.load_weights(name_weights)\n",
    "        model.compile(\"sgd\", \"mse\")\n",
    "        self.model = model\n",
    "\n",
    "            \n",
    "class DQN_FC(DQN):\n",
    "    def __init__(self, *args, lr=0.1,**kwargs):\n",
    "        super(DQN_FC, self).__init__( *args,**kwargs)\n",
    "        \n",
    "        # NN Model\n",
    "        \n",
    "        ####### FILL IN\n",
    "        state_size = 50\n",
    "        \n",
    "        model = Sequential()\n",
    "        model.add(Reshape((state_size,), input_shape=(5,5,self.n_state)))\n",
    "        model.add(Dense(512, input_dim=state_size, activation='relu'))\n",
    "        model.add(Dense(128, activation='relu'))\n",
    "        model.add(Dense(4, activation='linear'))\n",
    "\n",
    "        model.compile(sgd(lr=lr, decay=1e-4, momentum=0.0), \"mse\")\n",
    "        self.model = model\n",
    "        "
   ]
  },
  {
   "cell_type": "code",
   "execution_count": 66,
   "metadata": {
    "collapsed": false
   },
   "outputs": [
    {
     "name": "stdout",
     "output_type": "stream",
     "text": [
      "Epoch 000/010 | Loss 0.0062 | Win/lose count 7.5/10.0 (-2.5)\n",
      "Epoch 001/010 | Loss 0.0064 | Win/lose count 9.0/7.0 (2.0)\n",
      "Epoch 002/010 | Loss 0.0042 | Win/lose count 9.0/9.0 (0.0)\n",
      "Epoch 003/010 | Loss 0.0022 | Win/lose count 9.0/8.0 (1.0)\n",
      "Epoch 004/010 | Loss 0.0034 | Win/lose count 9.5/5.0 (4.5)\n",
      "Epoch 005/010 | Loss 0.0256 | Win/lose count 11.5/6.0 (5.5)\n",
      "Epoch 006/010 | Loss 0.0045 | Win/lose count 9.5/8.0 (1.5)\n",
      "Epoch 007/010 | Loss 0.0017 | Win/lose count 8.0/9.0 (-1.0)\n",
      "Epoch 008/010 | Loss 0.0015 | Win/lose count 13.0/6.0 (7.0)\n",
      "Epoch 009/010 | Loss 0.0026 | Win/lose count 17.5/7.0 (10.5)\n"
     ]
    },
    {
     "data": {
      "text/html": [
       "<video alt=\"test\" controls>\n",
       "                <source src=\"data:video/mp4;base64,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\" type=\"video/mp4\" />\n",
       "             </video>"
      ],
      "text/plain": [
       "<IPython.core.display.HTML object>"
      ]
     },
     "execution_count": 66,
     "metadata": {},
     "output_type": "execute_result"
    }
   ],
   "source": [
    "env = Environment(grid_size=size, max_time=T, temperature=0.3)\n",
    "agent = DQN_FC(size, lr=.1, epsilon = 0.3, memory_size=2000, batch_size = 32)\n",
    "train(agent, env, epochs_train, prefix='fc_train')\n",
    "HTML(display_videos('fc_train0.mp4'))"
   ]
  },
  {
   "cell_type": "markdown",
   "metadata": {},
   "source": [
    "***\n",
    "***\n",
    "__Question 8__ Implement the DQN training algorithm using a CNN (for example, 2 convolutional layers and one final fully connected layer)."
   ]
  },
  {
   "cell_type": "code",
   "execution_count": 71,
   "metadata": {
    "collapsed": true
   },
   "outputs": [],
   "source": [
    "from keras.layers import Conv2D, MaxPooling2D, Activation, AveragePooling2D,Reshape,BatchNormalization, Dropout\n",
    "from keras.layers.core import Flatten\n",
    "\n",
    "class DQN_CNN(DQN):\n",
    "    def __init__(self, *args,lr=0.1,**kwargs):\n",
    "        super(DQN_CNN, self).__init__(*args,**kwargs)\n",
    "        \n",
    "        model = Sequential()\n",
    "        model.add(Conv2D(64, (2, 2), input_shape=(5,5,self.n_state,), activation='relu'))\n",
    "        model.add(Conv2D(32, (2, 2), activation='relu'))\n",
    "        model.add(Dropout(rate=0.2))\n",
    "        model.add(Flatten())\n",
    "        # model.add(Dense(128, activation='relu'))\n",
    "        model.add(Dense(4, activation='sigmoid'))\n",
    "        \n",
    "        model.compile(sgd(lr=lr, decay=1e-4, momentum=0.0), \"mse\")\n",
    "        self.model = model"
   ]
  },
  {
   "cell_type": "code",
   "execution_count": 68,
   "metadata": {
    "collapsed": false
   },
   "outputs": [
    {
     "name": "stdout",
     "output_type": "stream",
     "text": [
      "Epoch 000/010 | Loss 0.0047 | Win/lose count 2.5/3.0 (-0.5)\n",
      "Epoch 001/010 | Loss 0.0035 | Win/lose count 2.0/2.0 (0.0)\n",
      "Epoch 002/010 | Loss 0.0055 | Win/lose count 4.5/8.0 (-3.5)\n",
      "Epoch 003/010 | Loss 0.0004 | Win/lose count 7.5/3.0 (4.5)\n",
      "Epoch 004/010 | Loss 0.0029 | Win/lose count 3.5/2.0 (1.5)\n",
      "Epoch 005/010 | Loss 0.0024 | Win/lose count 2.5/3.0 (-0.5)\n",
      "Epoch 006/010 | Loss 0.0026 | Win/lose count 5.0/4.0 (1.0)\n",
      "Epoch 007/010 | Loss 0.0141 | Win/lose count 3.5/4.0 (-0.5)\n",
      "Epoch 008/010 | Loss 0.0091 | Win/lose count 5.0/2.0 (3.0)\n",
      "Epoch 009/010 | Loss 0.0069 | Win/lose count 8.5/5.0 (3.5)\n"
     ]
    },
    {
     "data": {
      "text/html": [
       "<video alt=\"test\" controls>\n",
       "                <source src=\"data:video/mp4;base64,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\" type=\"video/mp4\" />\n",
       "             </video>"
      ],
      "text/plain": [
       "<IPython.core.display.HTML object>"
      ]
     },
     "execution_count": 68,
     "metadata": {},
     "output_type": "execute_result"
    }
   ],
   "source": [
    "env = Environment(grid_size=size, max_time=T, temperature=0.3)\n",
    "agent = DQN_CNN(lr=.1size, epsilon = 0.5, memory_size=2000, batch_size = 32)\n",
    "train(agent,env,epochs_train,prefix='cnn_train')\n",
    "HTML(display_videos('cnn_train0.mp4'))"
   ]
  },
  {
   "cell_type": "markdown",
   "metadata": {},
   "source": [
    "***\n",
    "***\n",
    "__Question 9__ Test both algorithms and compare their performances. Which issue(s) do you observe? Observe also different behaviors by changing the temperature."
   ]
  },
  {
   "cell_type": "code",
   "execution_count": 72,
   "metadata": {
    "collapsed": false
   },
   "outputs": [
    {
     "name": "stdout",
     "output_type": "stream",
     "text": [
      "Test of the CNN\n",
      "Win/lose count 13.0/11.0. Average score (2.0)\n",
      "Win/lose count 13.0/10.0. Average score (2.5)\n",
      "Win/lose count 9.5/13.0. Average score (0.5)\n",
      "Win/lose count 3.0/5.0. Average score (-0.125)\n",
      "Win/lose count 4.5/4.0. Average score (0.0)\n",
      "Win/lose count 8.5/9.0. Average score (-0.08333333333333333)\n",
      "Win/lose count 6.5/6.0. Average score (0.0)\n",
      "Win/lose count 13.5/10.0. Average score (0.4375)\n",
      "Win/lose count 20.5/13.0. Average score (1.2222222222222223)\n",
      "Win/lose count 10.5/7.0. Average score (1.45)\n",
      "Win/lose count 12.0/7.0. Average score (1.7727272727272727)\n",
      "Win/lose count 2.5/3.0. Average score (1.5833333333333333)\n",
      "Win/lose count 9.5/11.0. Average score (1.3461538461538463)\n",
      "Win/lose count 11.0/7.0. Average score (1.5357142857142858)\n",
      "Win/lose count 18.5/11.0. Average score (1.9333333333333333)\n",
      "Win/lose count 9.0/9.0. Average score (1.8125)\n",
      "Win/lose count 9.0/3.0. Average score (2.0588235294117645)\n",
      "Win/lose count 12.0/11.0. Average score (2.0)\n",
      "Win/lose count 15.5/9.0. Average score (2.236842105263158)\n",
      "Win/lose count 17.0/5.0. Average score (2.725)\n",
      "Win/lose count 16.0/9.0. Average score (2.9285714285714284)\n",
      "Win/lose count 5.0/15.0. Average score (2.340909090909091)\n",
      "Win/lose count 11.0/5.0. Average score (2.5)\n",
      "Win/lose count 15.5/11.0. Average score (2.5833333333333335)\n",
      "Win/lose count 20.5/6.0. Average score (3.06)\n",
      "Win/lose count 19.5/10.0. Average score (3.3076923076923075)\n",
      "Win/lose count 13.0/7.0. Average score (3.4074074074074074)\n",
      "Win/lose count 13.0/6.0. Average score (3.5357142857142856)\n",
      "Win/lose count 19.5/14.0. Average score (3.603448275862069)\n",
      "Win/lose count 7.5/9.0. Average score (3.433333333333333)\n",
      "Final score: 3.433333333333333\n",
      "Test of the FC\n",
      "Win/lose count 6.0/8.0. Average score (-2.0)\n",
      "Win/lose count 10.5/12.0. Average score (-1.75)\n",
      "Win/lose count 14.5/12.0. Average score (-0.3333333333333333)\n",
      "Win/lose count 10.5/10.0. Average score (-0.125)\n",
      "Win/lose count 10.0/13.0. Average score (-0.7)\n",
      "Win/lose count 12.5/10.0. Average score (-0.16666666666666666)\n",
      "Win/lose count 15.0/11.0. Average score (0.42857142857142855)\n",
      "Win/lose count 12.0/2.0. Average score (1.625)\n",
      "Win/lose count 15.5/10.0. Average score (2.0555555555555554)\n",
      "Win/lose count 8.5/13.0. Average score (1.4)\n",
      "Win/lose count 16.5/6.0. Average score (2.227272727272727)\n",
      "Win/lose count 17.5/14.0. Average score (2.3333333333333335)\n",
      "Win/lose count 8.0/7.0. Average score (2.230769230769231)\n",
      "Win/lose count 8.5/7.0. Average score (2.1785714285714284)\n",
      "Win/lose count 12.0/14.0. Average score (1.9)\n",
      "Win/lose count 15.5/3.0. Average score (2.5625)\n",
      "Win/lose count 17.5/10.0. Average score (2.8529411764705883)\n",
      "Win/lose count 7.5/6.0. Average score (2.7777777777777777)\n",
      "Win/lose count 8.5/6.0. Average score (2.763157894736842)\n",
      "Win/lose count 10.0/8.0. Average score (2.725)\n",
      "Win/lose count 12.5/4.0. Average score (3.0)\n",
      "Win/lose count 19.0/4.0. Average score (3.5454545454545454)\n",
      "Win/lose count 8.5/9.0. Average score (3.369565217391304)\n",
      "Win/lose count 6.0/6.0. Average score (3.2291666666666665)\n",
      "Win/lose count 14.5/2.0. Average score (3.6)\n",
      "Win/lose count 8.5/8.0. Average score (3.480769230769231)\n",
      "Win/lose count 19.0/6.0. Average score (3.8333333333333335)\n",
      "Win/lose count 18.5/14.0. Average score (3.857142857142857)\n",
      "Win/lose count 10.5/10.0. Average score (3.7413793103448274)\n",
      "Win/lose count 13.5/17.0. Average score (3.5)\n",
      "Final score: 3.5\n"
     ]
    }
   ],
   "source": [
    "epochs_test = 30\n",
    "\n",
    "env = Environment(grid_size=size, max_time=T,temperature=0.3)\n",
    "agent_cnn = DQN_CNN(size, lr=.1, epsilon = 0.5, memory_size=500, batch_size = 32)\n",
    "agent_cnn.load(name_weights='cnn_trainmodel.h5',name_model='cnn_trainmodel.json')\n",
    "\n",
    "agent_fc = DQN_FC(size, lr=.1, epsilon = 0.5, memory_size=500, batch_size = 32)\n",
    "agent_cnn.load(name_weights='fc_trainmodel.h5',name_model='fc_trainmodel.json')\n",
    "print('Test of the CNN')\n",
    "test(agent_cnn,env,epochs_test,prefix='cnn_test')\n",
    "print('Test of the FC')\n",
    "test(agent_fc,env,epochs_test,prefix='fc_test')"
   ]
  },
  {
   "cell_type": "code",
   "execution_count": 73,
   "metadata": {
    "collapsed": false
   },
   "outputs": [
    {
     "data": {
      "text/html": [
       "<video alt=\"test\" controls>\n",
       "                <source src=\"data:video/mp4;base64,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\" type=\"video/mp4\" />\n",
       "             </video>"
      ],
      "text/plain": [
       "<IPython.core.display.HTML object>"
      ]
     },
     "execution_count": 73,
     "metadata": {},
     "output_type": "execute_result"
    }
   ],
   "source": [
    "HTML(display_videos('cnn_test0.mp4'))"
   ]
  },
  {
   "cell_type": "code",
   "execution_count": 74,
   "metadata": {
    "collapsed": false
   },
   "outputs": [
    {
     "data": {
      "text/html": [
       "<video alt=\"test\" controls>\n",
       "                <source src=\"data:video/mp4;base64,AAAAIGZ0eXBpc29tAAACAGlzb21pc28yYXZjMW1wNDEAAAAIZnJlZQAAGG1tZGF0AAACrQYF//+p3EXpvebZSLeWLNgg2SPu73gyNjQgLSBjb3JlIDE1NyByMjkzNSA1NDVkZTJmIC0gSC4yNjQvTVBFRy00IEFWQyBjb2RlYyAtIENvcHlsZWZ0IDIwMDMtMjAxOCAtIGh0dHA6Ly93d3cudmlkZW9sYW4ub3JnL3gyNjQuaHRtbCAtIG9wdGlvbnM6IGNhYmFjPTEgcmVmPTMgZGVibG9jaz0xOjA6MCBhbmFseXNlPTB4MToweDExMSBtZT1oZXggc3VibWU9NyBwc3k9MSBwc3lfcmQ9MS4wMDowLjAwIG1peGVkX3JlZj0xIG1lX3JhbmdlPTE2IGNocm9tYV9tZT0xIHRyZWxsaXM9MSA4eDhkY3Q9MCBjcW09MCBkZWFkem9uZT0yMSwxMSBmYXN0X3Bza2lwPTEgY2hyb21hX3FwX29mZnNldD00IHRocmVhZHM9NiBsb29rYWhlYWRfdGhyZWFkcz0xIHNsaWNlZF90aHJlYWRzPTAgbnI9MCBkZWNpbWF0ZT0xIGludGVybGFjZWQ9MCBibHVyYXlfY29tcGF0PTAgY29uc3RyYWluZWRfaW50cmE9MCBiZnJhbWVzPTMgYl9weXJhbWlkPTIgYl9hZGFwdD0xIGJfYmlhcz0wIGRpcmVjdD0xIHdlaWdodGI9MSBvcGVuX2dvcD0wIHdlaWdodHA9MiBrZXlpbnQ9MjUwIGtleWludF9taW49MjUgc2NlbmVjdXQ9NDAgaW50cmFfcmVmcmVzaD0wIHJjX2xvb2thaGVhZD00MCByYz1jcmYgbWJ0cmVlPTEgY3JmPTIzLjAgcWNvbXA9MC42MCBxcG1pbj0wIHFwbWF4PTY5IHFwc3RlcD00IGlwX3JhdGlvPTEuNDAgYXE9MToxLjAwAIAAAALfZYiEADf//vaH+BTZWBP+Wb/9DX/cj9uPrP1xYyEE31qvIejAGS+1H+b/rFFs6Z6UB/fgCJQAc24ZwpHZJ3jjgNSrIMcHwKauk6vwKShNt/ojJP8GdskWRr8IOhDD9j6rQ/bu6iKIDuBS+cJeYfYG1Cd4pEkdWi814tLnQjg14hXBWxPRZ1bYPTUnQ3l8qQKfBx7pVhDGzzKop+RGozg0Yc5eYZStZAtRc6fvuetkjLo4AZgGUc4bAs/AhPkiiDmT6ZOAR1RqxkakYN6h9QCJzsQsCwAbNUm8r+JMsx0H/TOLQ9b8kBSkKBiGpklhOBSgRzKXlF0ipfSRMahpxtTJFspkF0Qw7R4I794V/dgRWEEkBMBEIxEjNPNdzXLF/VwVPzCCpzQdUVgePglMMGCqZJVujuP1tN1K2RK7O2RFSPQLTyICodx2O4uZ4ehy6y12ovj7zdQZprH8Ol0RzhYM7H7NxLZgiakoMTtGu9AzrPo5klxqUPVotA2vBaja2K6ci78GX1ghDYZ6hDtJhZwqcT3uyzlkABsi7pOn/lZx708VNeguYLkoVvDPf9PPUZktVUZInhtPQYm0QAGa1PXqz3z2CnxKKHgRGMKi7sifYFOSzLE7ipOMQcwGhqlYZpBJy56zljmoTDGoMl8BbUnStdtMIAdmkQswCI0xb8jW+T0R1CTiGzvdd4yEdkc1zrBJMgC9DeNP6DhlVx9KoirukHmOtG5hK9apXnnSkQ9gP9zLPNbOZw8wkYrRMFjLmU1kV6RvwjwRfAZnasE7eQIrd9vI9wmapcMXjEvXPg6wqk6Z2qYfhJQ+SSM5cqVEyv+aqtHXhh0UMKCYQT9FmeFwow4VWxo8sxzfdghampp5BT6Q3JDoFwt9x/u26y1eZHtsRss2Q5AMfCZMhALsRHdLPO5bK3jk9FG+mxnW8qlrWb+7Or1Cx6kmitIv+mFjSNgn0E6AGBXX7Lx/K3KAAAvpAAAAE0GaIWxDf/6nhABT+BSCET/LblYAAAAXQZpEPCGTKYQz//6eEAFPr3GhdN91uU0AAAAOQZ5ialPCvwBFZNw19MAAAAANAZ6DakK/AEWDSLevpwAAABlBmoVJqEFomUwIZ//+nhABUfdN9FSs18CTAAAAGUGapknhClJlMCG//qeEADd+wf4Tgt0JZ8EAAAAYQZrHSeEOiZTAhv/+p4QAI98dMf4fVtxfAAAAHkGa60nhDyZTAhv//qeEACLfHT3ebrGaKrZihIkjzAAAABFBnwlFETwv/wAVCfMOq9eiMAAAAA8Bnyh0Qr8AHFL0BklzT4EAAAAQAZ8qakK/ABxQgPgPr+BF8AAAABlBmyxJqEFomUwIb//+p4QAFqxWkEIn+W6TAAAAGEGbUEnhClJlMCG//qeEAA7nsH8+D6Nu0QAAABRBn25FNEwv/wANhEtymY+YhwYHpQAAABABn410Qr8AEldqTyvyU3pRAAAAEAGfj2pCvwASXaITcZ9epSgAAAAZQZuRSahBaJlMCG///qeEABbPdTj/D6tukwAAABxBm7NJ4QpSZTBREsN//qeEACKqwLNuM3up8YKRAAAAEAGf0mpCvwAcVmDyYHr3doAAAAAZQZvUSeEOiZTAhv/+p4QANfSJ/qt8x+I9IAAAABhBm/dJ4Q8mUwIb//6nhAA2PsHr2Z8EWEEAAAAPQZ4VRRE8K/8ALE1uGx3AAAAADQGeNmpCvwAsXKRb2O8AAAASQZo7SahBaJlMCG///qeEAAEnAAAAEkGeWUURLC//AB8WuueNWWLUlAAAABABnnh0Qr8AKynUnlfkptrxAAAAEAGeempCvwAsSjRMiaVnHcAAAAAaQZp8SahBbJlMCG///qeEADXurSCET/Lb5YEAAAAbQZqASeEKUmUwIZ/+nhABT69zXHP5tfX323nxAAAAEEGevkU0TC//ADOKu7/N6TAAAAAPAZ7ddEK/AC12jvPOLd6AAAAADwGe32pCvwBFdiPJgevcJwAAABlBmsFJqEFomUwIb//+p4QAVr3U4/w+rbcjAAAAGEGa4knhClJlMCG//qeEAFR91OP8Pq23KwAAABZBmwZJ4Q6JlMCG//6nhABP/dT9rq2AAAAADkGfJEURPC//AC/CLbehAAAADwGfQ3RCvwBAlSOI7LsrZQAAAA8Bn0VqQr8AQJUjdZ6s9l8AAAAZQZtJSahBaJlMCGf//p4QAT/3TYy5NlW5lQAAAA9Bn2dFESwr/wBBZNw1+kAAAAANAZ+IakK/AEGDSLev0gAAABlBm4pJqEFsmUwIZ//+nhAB2inHP4c5vrNJAAAAGEGbq0nhClJlMCG//qeEAHn9g9ezPgivFwAAAB1Bm81J4Q6JlMFNEw3//qeEALTitmJ/q7fGn8h35AAAABABn+xqQr8Aku0Qm4z69NspAAAAHkGb70nhDyZTBTwz//6eEAQQQ502C9EdfftGW1ZsoQAAABABng5qQr8A3Ltwm4z69NdNAAAAHUGaEUnhDyZTBTwz//6eEAQX4h/Hw+cS7riPqh9mAAAAEAGeMGpCvwDckdudaGF4kEAAAAAYQZoySeEPJlMCGf/+nhACoe6bGXJsq21NAAAAGEGaU0nhDyZTAhn//p4QAo/xOzrdAyQ0rAAAABhBmnRJ4Q8mUwIZ//6eEAJ98Q863QMkNMwAAAAYQZqVSeEPJlMCG//+p4QAn3x0x/h9W207AAAAGUGatknhDyZTAhv//qeEAOwcZ/qt8x+IN6AAAAAdQZrYSeEPJlMFETw7//6plgDJ7OiBZoA6+PPn63sAAAAPAZ73akK/ATbYjyYHr20HAAAAIEGa/EnhDyZTAh3//qmWAuXGg5llnz7blc0+zRjk8GLAAAAAFUGfGkURPC//AYfvb7OT92scyrMouQAAAA8Bnzl0Qr8BSMsGDZjiScEAAAAPAZ87akK/AgtjsnDZtNkzAAAAHEGbP0moQWiZTAh3//6plgLlykgcP8a0hTAXMWEAAAASQZ9dRREsK/8CCtfOdZIEuPmAAAAAEAGffmpCvwH5LGYfQEg0j0gAAAAbQZtjSahBbJlMCG///qeEBi1ACnhbvRPykLuBAAAAEEGfgUUVLC//AZWfpXBBFJAAAAAPAZ+gdEK/AVGMYuA/LPlhAAAADwGfompCvwIe6p5MCp67NwAAABdBm6dJqEFsmUwIb//+p4QG6ALNq7BbQQAAAA5Bn8VFFSwv/wGjP+oyoQAAAA8Bn+R0Qr8CMvJukJbkARsAAAAPAZ/makK/AjILGihn0lHTAAAAHUGb6UmoQWyZTBRMM//+nhAWzid9iSec6bFO8oOAAAAAEAGeCGpCvwIeR251njgya0AAAAAYQZoKSeEKUmUwIZ/+nhAGy7psZcmyOMcdAAAAGEGaK0nhDomUwIb//qeEAbLupx/h9VYxjQAAABhBmkxJ4Q8mUwIb//6nhAGh7qcf4fVbcaEAAAAZQZptSeEPJlMCHf/+qZYAy/jzpZ0dS7JlQQAAABZBmpBJ4Q8mUwId//6plgDKGHZuZgh5AAAAEUGerkURPCv/ATbYrBISt9nXAAAADgGez2pCvwE22TFcCSdcAAAAHEGa1EmoQWiZTAhv//6nhAGR8dPtXrwPBuisEPAAAAAQQZ7yRREsL/8A4idRvYIoOQAAAA8BnxF0Qr8BP7R3nnFo+YAAAAAQAZ8TakK/AT+lG80xVtHGwAAAAB1BmxZJqEFsmUwUTDv//qmWAIQUjbND1e/zeKmbKwAAABABnzVqQr8A17qnkuZ8kquAAAAAG0GbOknhClJlMCHf/qmWAO4FQLRJt2r31eGzpwAAABVBn1hFNEwv/wD4J0720pBHTtYrnSUAAAAQAZ93dEK/ANeApnlfkpsu6AAAABABn3lqQr8BWrHjlf24fNtBAAAAGUGbfkmoQWiZTAhv//6nhAHb7B/kAg6Bs6YAAAAQQZ+cRREsL/8A9/8PXWDQQQAAAA8Bn7t0Qr8BWk5QpNslUTcAAAAPAZ+9akK/ANyCxsDlNpOAAAAAGkGboUmoQWyZTAhv//6nhAHBcZ/qe/s+TW9AAAAAEUGf30UVLCv/AVGx3/RyRVFBAAAAEAGf4GpCvwFRsI8mB69s9IAAAAAdQZvjSahBbJlMFEw3//6nhAUIVsxP9Q+46fXAN6EAAAAQAZ4CakK/AgqjRMiXAoBqQAAAABtBmgdJ4QpSZTAhn/6eEBK+1H2Tp5zpsU8cqYEAAAAQQZ4lRTRML/8Bev4CusRWwQAAABABnkR0Qr8B+OrRkln9ZaSBAAAADwGeRmpCvwHr7Q6FI2ZOwQAAABlBmkhJqEFomUwIb//+p4QBoe6nH+H1W3GhAAAAGEGaaUnhClJlMCG//qeEBDBBZtcPMfZtLwAAAB1BmotJ4Q6JlMFNEw3//qeEBEuzH1pbmp4ass9VUQAAABABnqpqQr8B3rL9UfMfi2NAAAAAHEGarUnhDyZTBTw7//6plgDEePP5HGp1CDcG644AAAAQAZ7MakK/AS6T5zrQwvD0wQAAABhBmtFJ4Q8mUwId//6plgDC1OE/e0vt6u8AAAAQQZ7vRRE8L/8A3Kru/zdvuQAAAA8Bnw50Qr8AvsYxcB+WkuAAAAAPAZ8QakK/AS7YjyYHr20PAAAAHEGbFUmoQWiZTAhv//6nhAOQ/E1xqeX6J/hOPmEAAAAQQZ8zRREsL/8BUaBFaUT4OAAAAA8Bn1J0Qr8B0mlYwhVp00AAAAAQAZ9UakK/AdGF70iaVmyLgQAAABxBm1dJqEFsmUwUTDv//qmWAdXiEA/v51ROEoScAAAAEAGfdmpCvwHGCJmm+kg4kXEAAAAYQZt7SeEKUmUwIb/+p4QDkzhTPRP8Jx8xAAAAFUGfmUU0TC//AWVJLkzb5IZBaJ20EAAAAA8Bn7h0Qr8B30QzIaBmcb0AAAAPAZ+6akK/Ad6x1RpRKWLiAAAAG0GbvUmoQWiZTBTw3/6nhAOlwGATX+F1DLNStwAAABABn9xqQr8BxgiZpvpIOJFxAAAAHEGb30nhClJlMFLDv/6plgDEePP5OrUC0UxBE7oAAAAQAZ/+akK/ATbNG80xVtHIwAAAABhBm+NJ4Q6JlMCHf/6plgDC1OF/vq+5E7sAAAAQQZ4BRRU8L/8A3KrxvYIoeAAAAA8BniB0Qr8Azbybzzi0xYEAAAAQAZ4iakK/ATZ5omRNKzZqQAAAABJBmidJqEFomUwIb//+p4QAAScAAAATQZ5FRREsL/8BUU2fmbcTpj58HQAAABABnmR0Qr8B0mlYtjZUo90xAAAAEAGeZmpCvwHSDwa48VbRsGEAAAAfQZppSahBbJlMFEw3//6nhAGC8jgbn8ui8OLIUlw7oAAAABABnohqQr8BNs0bzTFW0cjAAAAAHEGai0nhClJlMFLDv/6plgDR0sxaZoA6+PPn62cAAAAQAZ6qakK/AT+x5bhs2pj1gAAAABlBmq5J4Q6JlMCHf/6plgDT99WVWZtggIOAAAAAEUGezEUVPCv/AUilG80LB9nBAAAADgGe7WpCvwFIbGMm5JODAAAAHkGa8kmoQWiZTAhv//6nhAPYPE1xqeI6UQQz+E49IQAAABVBnxBFESwv/wFbVdw4mHG76LK32pgAAAAQAZ8vdEK/ATZ1aMkt/raDgAAAABABnzFqQr8B0h+Bdf24fMHBAAAAGkGbM0moQWyZTAh3//6plgIjZzrRo/4PCMqAAAAAGkGbV0nhClJlMCHf/qmWAjHZj8z4ocKXER/gAAAAFUGfdUU0TC//AWURuOqdLkSOPXpsyQAAABABn5R0Qr8B7CQNbTGgXk3AAAAADwGflmpCvwE/aymbZkayLwAAABNBm5tJqEFomUwId//+qZYAAJWBAAAADEGfuUURLC//AACygAAAAA8Bn9h0Qr8BK1SOI7LsqTcAAAAQAZ/aakK/AStUjvZ4+3TWgAAAABpBm95JqEFsmUwId//+qZYAxHjz96LDpA2rYQAAAA9Bn/xFFSwr/wEulcCS1sEAAAANAZ4dakK/AS8NYeKWtgAAABtBmgJJqEFsmUwId//+qZYAvCZ8/nJO+r7nknAAAAAQQZ4gRRUsL/8A16rxvYIouQAAAA8Bnl90Qr8Aw6TU9Wd9U0AAAAAQAZ5BakK/AS55omRNKzZswQAAABJBmkZJqEFsmUwIb//+p4QAAScAAAATQZ5kRRUsL/8BWvXHt7cG/3MXTQAAAA8BnoN0Qr8B0kQ8oaBmoccAAAAQAZ6FakK/AdGy/VH0D4B4wQAAABpBmodJqEFsmUwId//+qZYAvXox+OUhTB/fMQAAABpBmqtJ4QpSZTAh3/6plgDC0E/K0/e0vt6u4AAAABVBnslFNEwv/wDcqu720pBHTtYrndwAAAAQAZ7odEK/AL6nUnlfkpsw8QAAABABnupqQr8BLtnjlf24fOfAAAAAEkGa70moQWiZTAhv//6nhAABJwAAABNBnw1FESwv/wFRTZ+ZtxOmPnwdAAAAEAGfLHRCvwHSaVi2NlSj3TEAAAAQAZ8uakK/AdIPBrjxVtGwYQAAABpBmzBJqEFsmUwId//+qZYAxHjz96LDpA2rYAAAABFBm1RJ4QpSZTAhv/6nhAABJwAAABNBn3JFNEwv/wCO+ggm5v1yGhFdAAAADwGfkXRCvwDDgHxSbZKpDwAAABABn5NqQr8Aw7qnkwPXttSAAAAAHEGblkmoQWiZTBTw3/6nhADtewf55BWqZCRbyJkAAAAQAZ+1akK/AMOTJNN9JBxUkAAAABtBm7lJ4QpSZTAhv/6nhACi4rSCET/LZKXHtmEAAAASQZ/XRTRMK/8AguxXsLBfltaBAAAADwGf+GpCvwCC7PLcNm1NKwAAABxBm/tJqEFomUwU8N/+p4QA/IPDixqh/vjp4tcdAAAAEAGeGmpCvwDSu1LcNm1MvIAAAAAYQZofSeEKUmUwIb/+p4QA/fsH+cqKp3Q9AAAAEEGePUU0TC//AJrn7NwQH/EAAAAPAZ5cdEK/AUjoB0JyXcLAAAAAEAGeXmpCvwDSkdudaGF4lMAAAAAZQZpBSahBaJlMFPDf/qeEAPynhzN7qfFrjwAAABABnmBqQr8A0rtS3DZtTLyAAAAAHEGaY0nhClJlMFLDf/6nhAGditmJ/qtu6n7MEHEAAAAQAZ6CakK/AUhRomRNKzZlQAAAABtBmodJ4Q6JlMCGf/6eEAZHxD/AkS3XEfTSLKEAAAAQQZ6lRRU8L/8A538PXWDWwQAAABABnsR0Qr8BP01oyS3+tn+BAAAADwGexmpCvwDNgsbA5TaggQAAABtBmslLqEIQWiRGCCgH8gH9h4BTwr/+OEAAEXAAAAAmAZ7oakK/Aq9j7UHE3arDSSblqoYL+jDjYRv7Jum2FP7EvPL3qMAAAAvYbW9vdgAAAGxtdmhkAAAAAAAAAAAAAAAAAAAD6AAAH5AAAQAAAQAAAAAAAAAAAAAAAAEAAAAAAAAAAAAAAAAAAAABAAAAAAAAAAAAAAAAAABAAAAAAAAAAAAAAAAAAAAAAAAAAAAAAAAAAAAAAAAAAgAACwJ0cmFrAAAAXHRraGQAAAADAAAAAAAAAAAAAAABAAAAAAAAH5AAAAAAAAAAAAAAAAAAAAAAAAEAAAAAAAAAAAAAAAAAAAABAAAAAAAAAAAAAAAAAABAAAAAARAAAAEQAAAAAAAkZWR0cwAAABxlbHN0AAAAAAAAAAEAAB+QAAAEAAABAAAAAAp6bWRpYQAAACBtZGhkAAAAAAAAAAAAAAAAAAAyAAABlABVxAAAAAAALWhkbHIAAAAAAAAAAHZpZGUAAAAAAAAAAAAAAABWaWRlb0hhbmRsZXIAAAAKJW1pbmYAAAAUdm1oZAAAAAEAAAAAAAAAAAAAACRkaW5mAAAAHGRyZWYAAAAAAAAAAQAAAAx1cmwgAAAAAQAACeVzdGJsAAAAlXN0c2QAAAAAAAAAAQAAAIVhdmMxAAAAAAAAAAEAAAAAAAAAAAAAAAAAAAAAARABEABIAAAASAAAAAAAAAABAAAAAAAAAAAAAAAAAAAAAAAAAAAAAAAAAAAAAAAAAAAAGP//AAAAL2F2Y0MB9AAN/+EAF2f0AA2RmygiEdCAAAADAIAAABkHihTLAQAFaOvjxEgAAAAYc3R0cwAAAAAAAAABAAAAygAAAgAAAAAUc3RzcwAAAAAAAAABAAAAAQAABbBjdHRzAAAAAAAAALQAAAACAAAEAAAAAAEAAAgAAAAAAgAAAgAAAAADAAAEAAAAAAEAAAoAAAAAAQAABAAAAAABAAAAAAAAAAEAAAIAAAAAAQAABAAAAAABAAAKAAAAAAEAAAQAAAAAAQAAAAAAAAABAAACAAAAAAEAAAQAAAAAAQAABgAAAAABAAACAAAAAAEAAAQAAAAAAQAACAAAAAACAAACAAAAAAEAAAoAAAAAAQAABAAAAAABAAAAAAAAAAEAAAIAAAAAAQAABAAAAAABAAAKAAAAAAEAAAQAAAAAAQAAAAAAAAABAAACAAAAAAIAAAQAAAAAAQAACgAAAAABAAAEAAAAAAEAAAAAAAAAAQAAAgAAAAABAAAIAAAAAAIAAAIAAAAAAgAABAAAAAABAAAGAAAAAAEAAAIAAAAAAQAABgAAAAABAAACAAAAAAEAAAYAAAAAAQAAAgAAAAAFAAAEAAAAAAEAAAYAAAAAAQAAAgAAAAABAAAKAAAAAAEAAAQAAAAAAQAAAAAAAAABAAACAAAAAAEAAAgAAAAAAgAAAgAAAAABAAAKAAAAAAEAAAQAAAAAAQAAAAAAAAABAAACAAAAAAEAAAoAAAAAAQAABAAAAAABAAAAAAAAAAEAAAIAAAAAAQAABgAAAAABAAACAAAAAAQAAAQAAAAAAQAACAAAAAACAAACAAAAAAEAAAoAAAAAAQAABAAAAAABAAAAAAAAAAEAAAIAAAAAAQAABgAAAAABAAACAAAAAAEAAAoAAAAAAQAABAAAAAABAAAAAAAAAAEAAAIAAAAAAQAACgAAAAABAAAEAAAAAAEAAAAAAAAAAQAAAgAAAAABAAAIAAAAAAIAAAIAAAAAAQAABgAAAAABAAACAAAAAAEAAAoAAAAAAQAABAAAAAABAAAAAAAAAAEAAAIAAAAAAgAABAAAAAABAAAGAAAAAAEAAAIAAAAAAQAABgAAAAABAAACAAAAAAEAAAoAAAAAAQAABAAAAAABAAAAAAAAAAEAAAIAAAAAAQAACgAAAAABAAAEAAAAAAEAAAAAAAAAAQAAAgAAAAABAAAGAAAAAAEAAAIAAAAAAQAACgAAAAABAAAEAAAAAAEAAAAAAAAAAQAAAgAAAAABAAAGAAAAAAEAAAIAAAAAAQAABgAAAAABAAACAAAAAAEAAAoAAAAAAQAABAAAAAABAAAAAAAAAAEAAAIAAAAAAQAACgAAAAABAAAEAAAAAAEAAAAAAAAAAQAAAgAAAAABAAAGAAAAAAEAAAIAAAAAAQAABgAAAAABAAACAAAAAAEAAAgAAAAAAgAAAgAAAAABAAAKAAAAAAEAAAQAAAAAAQAAAAAAAAABAAACAAAAAAEAAAQAAAAAAQAACgAAAAABAAAEAAAAAAEAAAAAAAAAAQAAAgAAAAABAAAKAAAAAAEAAAQAAAAAAQAAAAAAAAABAAACAAAAAAEAAAgAAAAAAgAAAgAAAAABAAAKAAAAAAEAAAQAAAAAAQAAAAAAAAABAAACAAAAAAEAAAoAAAAAAQAABAAAAAABAAAAAAAAAAEAAAIAAAAAAQAABAAAAAABAAAKAAAAAAEAAAQAAAAAAQAAAAAAAAABAAACAAAAAAEAAAoAAAAAAQAABAAAAAABAAAAAAAAAAEAAAIAAAAAAQAABAAAAAABAAAKAAAAAAEAAAQAAAAAAQAAAAAAAAABAAACAAAAAAEAAAYAAAAAAQAAAgAAAAABAAAIAAAAAAIAAAIAAAAAAQAABgAAAAABAAACAAAAAAEAAAoAAAAAAQAABAAAAAABAAAAAAAAAAEAAAIAAAAAAQAABgAAAAABAAACAAAAAAEAAAYAAAAAAQAAAgAAAAABAAAKAAAAAAEAAAQAAAAAAQAAAAAAAAABAAACAAAAAAEAAAYAAAAAAQAAAgAAAAAcc3RzYwAAAAAAAAABAAAAAQAAAMoAAAABAAADPHN0c3oAAAAAAAAAAAAAAMoAAAWUAAAAFwAAABsAAAASAAAAEQAAAB0AAAAdAAAAHAAAACIAAAAVAAAAEwAAABQAAAAdAAAAHAAAABgAAAAUAAAAFAAAAB0AAAAgAAAAFAAAAB0AAAAcAAAAEwAAABEAAAAWAAAAFgAAABQAAAAUAAAAHgAAAB8AAAAUAAAAEwAAABMAAAAdAAAAHAAAABoAAAASAAAAEwAAABMAAAAdAAAAEwAAABEAAAAdAAAAHAAAACEAAAAUAAAAIgAAABQAAAAhAAAAFAAAABwAAAAcAAAAHAAAABwAAAAdAAAAIQAAABMAAAAkAAAAGQAAABMAAAATAAAAIAAAABYAAAAUAAAAHwAAABQAAAATAAAAEwAAABsAAAASAAAAEwAAABMAAAAhAAAAFAAAABwAAAAcAAAAHAAAAB0AAAAaAAAAFQAAABIAAAAgAAAAFAAAABMAAAAUAAAAIQAAABQAAAAfAAAAGQAAABQAAAAUAAAAHQAAABQAAAATAAAAEwAAAB4AAAAVAAAAFAAAACEAAAAUAAAAHwAAABQAAAAUAAAAEwAAAB0AAAAcAAAAIQAAABQAAAAgAAAAFAAAABwAAAAUAAAAEwAAABMAAAAgAAAAFAAAABMAAAAUAAAAIAAAABQAAAAcAAAAGQAAABMAAAATAAAAHwAAABQAAAAgAAAAFAAAABwAAAAUAAAAEwAAABQAAAAWAAAAFwAAABQAAAAUAAAAIwAAABQAAAAgAAAAFAAAAB0AAAAVAAAAEgAAACIAAAAZAAAAFAAAABQAAAAeAAAAHgAAABkAAAAUAAAAEwAAABcAAAAQAAAAEwAAABQAAAAeAAAAEwAAABEAAAAfAAAAFAAAABMAAAAUAAAAFgAAABcAAAATAAAAFAAAAB4AAAAeAAAAGQAAABQAAAAUAAAAFgAAABcAAAAUAAAAFAAAAB4AAAAVAAAAFwAAABMAAAAUAAAAIAAAABQAAAAfAAAAFgAAABMAAAAgAAAAFAAAABwAAAAUAAAAEwAAABQAAAAdAAAAFAAAACAAAAAUAAAAHwAAABQAAAAUAAAAEwAAAB8AAAAqAAAAFHN0Y28AAAAAAAAAAQAAADAAAABidWR0YQAAAFptZXRhAAAAAAAAACFoZGxyAAAAAAAAAABtZGlyYXBwbAAAAAAAAAAAAAAAAC1pbHN0AAAAJal0b28AAAAdZGF0YQAAAAEAAAAATGF2ZjU4LjI2LjEwMA==\" type=\"video/mp4\" />\n",
       "             </video>"
      ],
      "text/plain": [
       "<IPython.core.display.HTML object>"
      ]
     },
     "execution_count": 74,
     "metadata": {},
     "output_type": "execute_result"
    }
   ],
   "source": [
    "HTML(display_videos('fc_test0.mp4'))"
   ]
  },
  {
   "cell_type": "markdown",
   "metadata": {},
   "source": [
    "Comment on performance of fc_model and CNN: The results given by CNN model are a bit better than fc_model. Although in both cases he agent gets stuck and the exploration becomes non-existent.\n",
    "\n",
    "\n",
    "By changing the temperature we are actually changing the probability of the binomial low. We notice that we improve the final score, but it is biased because by doing so we increase the probability of having cheese and we lower the probility of poisonious cells\n"
   ]
  },
  {
   "cell_type": "markdown",
   "metadata": {},
   "source": [
    "***\n",
    "\n",
    "The algorithm tends to not explore the map which can be an issue. We propose two ideas in order to encourage exploration:\n",
    "1. Incorporating a decreasing $\\epsilon$-greedy exploration. You can use the method ```set_epsilon```\n",
    "2. Append via the environment a new state that describes if a cell has been visited or not\n",
    "\n",
    "***\n",
    "__Question 10__ Design a new ```train_explore``` function and environment class ```EnvironmentExploring``` to tackle the issue of exploration.\n",
    "\n"
   ]
  },
  {
   "cell_type": "code",
   "execution_count": 75,
   "metadata": {
    "collapsed": true
   },
   "outputs": [],
   "source": [
    "def train_explore(agent,env,epoch,prefix=''):\n",
    "    # Number of won games\n",
    "    score = 0\n",
    "    loss = 0\n",
    "\n",
    "    \n",
    "    for e in range(epoch):\n",
    "        # At each epoch, we restart to a fresh game and get the initial state\n",
    "        state = env.reset()\n",
    "        # This assumes that the games will terminate\n",
    "        game_over = False\n",
    "\n",
    "        win = 0\n",
    "        lose = 0\n",
    "\n",
    "        while not game_over:\n",
    "            \n",
    "            # Epsilon-greedy \n",
    "            agent.set_epsilon(np.float(agent.get_epsilon())*0.995)\n",
    "            \n",
    "            # The agent performs an action\n",
    "            action = agent.act(state)\n",
    "\n",
    "            # Apply an action to the environment, get the next state, the reward\n",
    "            # and if the games end\n",
    "            prev_state = state\n",
    "            state, reward, game_over = env.act(action, train=True)\n",
    "\n",
    "            # Update the counters\n",
    "            if reward > 0:\n",
    "                win = win + reward\n",
    "            if reward < 0:\n",
    "                lose = lose - reward\n",
    "\n",
    "            # Apply the reinforcement strategy\n",
    "            loss = agent.reinforce(prev_state, state,  action, reward, game_over)\n",
    "            \n",
    "        # Save as a mp4       \n",
    "        env.draw(prefix+str(e))\n",
    "\n",
    "        # Update stats\n",
    "        score += win-lose\n",
    "\n",
    "        print(\"Epoch {:03d}/{:03d} | Loss {:.4f} | Win/lose count {}/{} ({})\"\n",
    "              .format(e, epoch, loss, win, lose, win-lose))\n",
    "        agent.save(name_weights=prefix+'model.h5',name_model=prefix+'model.json')\n",
    "        \n",
    "    print('Final score: '+str(score/epoch))\n",
    "        \n",
    "class EnvironmentExploring(object):\n",
    "    def __init__(self, grid_size=10, max_time=500, temperature=0.1):\n",
    "        grid_size = grid_size + 4\n",
    "        self.grid_size = grid_size\n",
    "        self.max_time = max_time\n",
    "        self.temperature = temperature\n",
    "        \n",
    "        self.board = np.zeros([grid_size,grid_size])\n",
    "        self.position = np.zeros([grid_size,grid_size])\n",
    "        self.malus_position = np.zeros([grid_size,grid_size])\n",
    "        \n",
    "        # coordinate of the rat\n",
    "        self.x = 0\n",
    "        self.y = 1\n",
    "        \n",
    "        # self time\n",
    "        self.t = 0\n",
    "\n",
    "        self.scale=16\n",
    "\n",
    "        self.to_draw = np.zeros((max_time+2, grid_size*self.scale, grid_size*self.scale, 3))\n",
    "        \n",
    "    def get_t(self):\n",
    "        return self.t\n",
    "    \n",
    "    def draw(self,e):\n",
    "        skvideo.io.vwrite(str(e) + '.mp4', self.to_draw)\n",
    "\n",
    "    def get_frame(self,t):\n",
    "        b = np.zeros((self.grid_size,self.grid_size,3))+128\n",
    "        b[self.board>0,0] = 256\n",
    "        b[self.board < 0, 2] = 256\n",
    "        b[self.x,self.y,:]=256\n",
    "        b[-2:,:,:]=0\n",
    "        b[:,-2:,:]=0\n",
    "        b[:2,:,:]=0\n",
    "        b[:,:2,:]=0\n",
    "        \n",
    "        b =  cv2.resize(b, None, fx=self.scale, fy=self.scale, interpolation=cv2.INTER_NEAREST)\n",
    "\n",
    "        self.to_draw[t,:,:,:]=b\n",
    "             \n",
    "        \n",
    "    def act(self, action, train=True):\n",
    "        \"\"\"This function returns the new state, reward and decides if the\n",
    "        game ends.\"\"\"\n",
    "\n",
    "        self.get_frame(int(self.t))\n",
    "\n",
    "        self.position = np.zeros((self.grid_size, self.grid_size))\n",
    "\n",
    "        self.position[0:2,:]= -1\n",
    "        self.position[:,0:2] = -1\n",
    "        self.position[-2:, :] = -1\n",
    "        self.position[:, -2:] = -1\n",
    "\n",
    "        self.position[self.x, self.y] = 1\n",
    "        \n",
    "        if action == 0:\n",
    "            if self.x == self.grid_size-3:\n",
    "                self.x = self.x-1\n",
    "            else:\n",
    "                self.x = self.x + 1\n",
    "        elif action == 1:\n",
    "            if self.x == 2:\n",
    "                self.x = self.x+1\n",
    "            else:\n",
    "                self.x = self.x-1\n",
    "        elif action == 2:\n",
    "            if self.y == self.grid_size - 3:\n",
    "                self.y = self.y - 1\n",
    "            else:\n",
    "                self.y = self.y + 1\n",
    "        elif action == 3:\n",
    "            if self.y == 2:\n",
    "                self.y = self.y + 1\n",
    "            else:\n",
    "                self.y = self.y - 1\n",
    "        else:\n",
    "            RuntimeError('Error: action not recognized')\n",
    "        \n",
    "        self.t = self.t + 1\n",
    "        \n",
    "        ## In Environment exploring:\n",
    "        # You will have to change n_state to 3 because you will use one more layer!\n",
    "        reward = 0\n",
    "        if train:\n",
    "            reward -= self.malus_position[self.x, self.y]\n",
    "\n",
    "        self.malus_position[self.x, self.y] = 0.01\n",
    "        reward = reward + self.board[self.x, self.y]\n",
    "        self.board[self.x, self.y] = 0\n",
    "        game_over = self.t > self.max_time\n",
    "\n",
    "        # 3 \"feature\" states instead of 2\n",
    "        state = np.concatenate((self.malus_position.reshape(self.grid_size, self.grid_size,1),\n",
    "                                self.board.reshape(self.grid_size, self.grid_size,1),\n",
    "                                self.position.reshape(self.grid_size, self.grid_size,1)),axis=2)\n",
    "        \n",
    "        state = state[self.x-2:self.x+3,self.y-2:self.y+3,:]\n",
    "        \n",
    "        return state, reward, game_over\n",
    "    \n",
    "    \n",
    "    def reset(self):\n",
    "        \"\"\"This function resets the game and returns the initial state\"\"\"\n",
    "\n",
    "        self.x = np.random.randint(3, self.grid_size-3, size=1)[0]\n",
    "        self.y = np.random.randint(3, self.grid_size-3, size=1)[0]\n",
    "\n",
    "\n",
    "        bonus = 0.5*np.random.binomial(1,self.temperature,size=self.grid_size**2)\n",
    "        bonus = bonus.reshape(self.grid_size,self.grid_size)\n",
    "\n",
    "        malus = -1.0*np.random.binomial(1,self.temperature,size=self.grid_size**2)\n",
    "        malus = malus.reshape(self.grid_size, self.grid_size)\n",
    "\n",
    "        self.to_draw = np.zeros((self.max_time+2, self.grid_size*self.scale, self.grid_size*self.scale, 3))\n",
    "\n",
    "\n",
    "        malus[bonus>0]=0\n",
    "\n",
    "        self.board = bonus + malus\n",
    "\n",
    "        self.position = np.zeros((self.grid_size, self.grid_size))\n",
    "        self.position[0:2,:]= -1\n",
    "        self.position[:,0:2] = -1\n",
    "        self.position[-2:, :] = -1\n",
    "        self.position[:, -2:] = -1\n",
    "        self.board[self.x,self.y] = 0\n",
    "       \n",
    "        self.malus_position[self.x, self.y] = 0\n",
    "\n",
    "        self.t = 0\n",
    "\n",
    "        state = np.concatenate((self.malus_position.reshape(self.grid_size, self.grid_size,1),\n",
    "                                self.board.reshape(self.grid_size, self.grid_size,1),\n",
    "                                self.position.reshape(self.grid_size, self.grid_size,1)),axis=2)\n",
    "\n",
    "        state = state[self.x - 2:self.x + 3, self.y - 2:self.y + 3, :]\n",
    "        \n",
    "        return state"
   ]
  },
  {
   "cell_type": "code",
   "execution_count": 79,
   "metadata": {
    "collapsed": false
   },
   "outputs": [
    {
     "name": "stdout",
     "output_type": "stream",
     "text": [
      "Epoch 000/032 | Loss 0.0044 | Win/lose count 9.0/14.229999999999974 (-5.229999999999974)\n",
      "Epoch 001/032 | Loss 0.0051 | Win/lose count 1.49/7.829999999999962 (-6.339999999999962)\n",
      "Epoch 002/032 | Loss 0.0160 | Win/lose count 2.95/1.8900000000000015 (1.0599999999999987)\n",
      "Epoch 003/032 | Loss 0.0030 | Win/lose count 4.44/6.829999999999962 (-2.3899999999999615)\n",
      "Epoch 004/032 | Loss 0.0168 | Win/lose count 2.4699999999999998/3.939999999999971 (-1.4699999999999713)\n",
      "Epoch 005/032 | Loss 0.0162 | Win/lose count 1.96/2.9599999999999804 (-0.9999999999999805)\n",
      "Epoch 006/032 | Loss 0.0079 | Win/lose count 3.9400000000000004/1.9000000000000015 (2.039999999999999)\n",
      "Epoch 007/032 | Loss 0.0044 | Win/lose count 10.290000000000003/1.7800000000000014 (8.510000000000002)\n",
      "Epoch 008/032 | Loss 0.0128 | Win/lose count 2.45/1.9600000000000015 (0.48999999999999866)\n",
      "Epoch 009/032 | Loss 0.0027 | Win/lose count 3.4400000000000004/3.939999999999981 (-0.49999999999998046)\n",
      "Epoch 010/032 | Loss 0.0104 | Win/lose count 2.45/1.9600000000000015 (0.48999999999999866)\n",
      "Epoch 011/032 | Loss 0.0087 | Win/lose count 1.47/1.9800000000000015 (-0.5100000000000016)\n",
      "Epoch 012/032 | Loss 0.0006 | Win/lose count 0.49/1.9800000000000015 (-1.4900000000000015)\n",
      "Epoch 013/032 | Loss 0.0045 | Win/lose count 2.46/1.9600000000000015 (0.49999999999999845)\n",
      "Epoch 014/032 | Loss 0.0044 | Win/lose count 10.330000000000002/1.7300000000000013 (8.600000000000001)\n",
      "Epoch 015/032 | Loss 0.0034 | Win/lose count 2.46/1.9500000000000015 (0.5099999999999985)\n",
      "Epoch 016/032 | Loss 0.0117 | Win/lose count 1.47/1.9800000000000015 (-0.5100000000000016)\n",
      "Epoch 017/032 | Loss 0.0090 | Win/lose count 3.920000000000001/3.919999999999975 (2.5757174171303632e-14)\n",
      "Epoch 018/032 | Loss 0.0020 | Win/lose count 2.45/1.9400000000000015 (0.5099999999999987)\n",
      "Epoch 019/032 | Loss 0.0007 | Win/lose count 3.4300000000000006/1.9400000000000015 (1.489999999999999)\n",
      "Epoch 020/032 | Loss 0.0042 | Win/lose count 3.45/1.9100000000000015 (1.5399999999999987)\n",
      "Epoch 021/032 | Loss 0.0060 | Win/lose count 10.300000000000002/1.7800000000000014 (8.520000000000001)\n",
      "Epoch 022/032 | Loss 0.0042 | Win/lose count 7.360000000000002/1.8600000000000014 (5.500000000000001)\n",
      "Epoch 023/032 | Loss 0.0006 | Win/lose count 1.47/2.97999999999998 (-1.50999999999998)\n",
      "Epoch 024/032 | Loss 0.0063 | Win/lose count 4.94/2.879999999999982 (2.0600000000000183)\n",
      "Epoch 025/032 | Loss 0.0037 | Win/lose count 7.8400000000000025/1.8500000000000014 (5.990000000000001)\n",
      "Epoch 026/032 | Loss 0.0007 | Win/lose count 6.3900000000000015/1.8600000000000014 (4.53)\n",
      "Epoch 027/032 | Loss 0.0132 | Win/lose count 4.900000000000001/1.9100000000000015 (2.9899999999999998)\n",
      "Epoch 028/032 | Loss 0.0084 | Win/lose count 7.350000000000002/1.8600000000000014 (5.490000000000001)\n",
      "Epoch 029/032 | Loss 0.0047 | Win/lose count 2.46/1.9600000000000015 (0.49999999999999845)\n",
      "Epoch 030/032 | Loss 0.0007 | Win/lose count 4.410000000000001/1.9100000000000015 (2.4999999999999996)\n",
      "Epoch 031/032 | Loss 0.0030 | Win/lose count 5.8900000000000015/1.8900000000000015 (4.0)\n",
      "Final score: 1.4646875000000072\n"
     ]
    }
   ],
   "source": [
    "# Training\n",
    "env = EnvironmentExploring(grid_size=size, max_time=T, temperature=0.3)\n",
    "agent = DQN_CNN(lr=.3, grid_size=size,  epsilon = 1, memory_size=16000, batch_size = 32,n_state=3)\n",
    "train_explore(agent, env, 32, prefix='cnn_train_explore')"
   ]
  },
  {
   "cell_type": "code",
   "execution_count": 80,
   "metadata": {
    "collapsed": false
   },
   "outputs": [
    {
     "name": "stdout",
     "output_type": "stream",
     "text": [
      "Win/lose count 2.9400000000000004/1.9500000000000015. Average score (0.9899999999999989)\n",
      "Win/lose count 2.45/1.9600000000000015. Average score (0.7399999999999988)\n",
      "Win/lose count 4.410000000000001/1.9000000000000015. Average score (1.3299999999999992)\n",
      "Win/lose count 2.95/1.9400000000000015. Average score (1.2499999999999991)\n",
      "Win/lose count 2.45/1.9600000000000015. Average score (1.097999999999999)\n",
      "Win/lose count 9.320000000000002/1.8200000000000014. Average score (2.164999999999999)\n",
      "Win/lose count 4.410000000000001/1.9100000000000015. Average score (2.2128571428571417)\n",
      "Win/lose count 3.920000000000001/1.9300000000000015. Average score (2.1849999999999987)\n",
      "Win/lose count 0/3.0099999999999794. Average score (1.6077777777777789)\n",
      "Win/lose count 6.870000000000002/2.8699999999999823. Average score (1.8470000000000026)\n",
      "Win/lose count 6.370000000000002/1.8800000000000014. Average score (2.0872727272727296)\n",
      "Win/lose count 3.9300000000000006/1.9200000000000015. Average score (2.0808333333333353)\n",
      "Win/lose count 9.800000000000002/1.8000000000000014. Average score (2.5361538461538475)\n",
      "Win/lose count 7.370000000000002/1.8500000000000014. Average score (2.749285714285716)\n",
      "Win/lose count 5.880000000000002/1.8800000000000014. Average score (2.832666666666668)\n",
      "Win/lose count 0.98/1.9900000000000015. Average score (2.592500000000001)\n",
      "Win/lose count 4.900000000000001/1.9000000000000015. Average score (2.616470588235295)\n",
      "Win/lose count 9.330000000000002/1.8100000000000014. Average score (2.8888888888888897)\n",
      "Win/lose count 5.880000000000002/1.8900000000000015. Average score (2.946842105263159)\n",
      "Win/lose count 3.4300000000000006/2.929999999999981. Average score (2.824500000000002)\n",
      "Win/lose count 3.920000000000001/1.9300000000000015. Average score (2.7847619047619068)\n",
      "Win/lose count 2.9400000000000004/1.9400000000000015. Average score (2.703636363636365)\n",
      "Win/lose count 3.4300000000000006/2.939999999999981. Average score (2.607391304347828)\n",
      "Win/lose count 2.9400000000000004/1.9500000000000015. Average score (2.540000000000002)\n",
      "Win/lose count 6.870000000000002/1.8700000000000014. Average score (2.6384000000000016)\n",
      "Win/lose count 10.790000000000003/2.779999999999984. Average score (2.845000000000002)\n",
      "Win/lose count 0.98/1.9700000000000015. Average score (2.7029629629629652)\n",
      "Win/lose count 1.96/1.9700000000000015. Average score (2.6060714285714304)\n",
      "Win/lose count 6.380000000000002/1.8800000000000014. Average score (2.6713793103448293)\n",
      "Win/lose count 7.870000000000002/1.8100000000000014. Average score (2.7843333333333353)\n",
      "Final score: 2.7843333333333353\n"
     ]
    },
    {
     "data": {
      "text/html": [
       "<video alt=\"test\" controls>\n",
       "                <source src=\"data:video/mp4;base64,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\" type=\"video/mp4\" />\n",
       "             </video>"
      ],
      "text/plain": [
       "<IPython.core.display.HTML object>"
      ]
     },
     "execution_count": 80,
     "metadata": {},
     "output_type": "execute_result"
    }
   ],
   "source": [
    "## Evaluation\n",
    "test(agent,env,epochs_test,prefix='cnn_test_explore')\n",
    "HTML(display_videos('cnn_test_explore0.mp4'))"
   ]
  },
  {
   "cell_type": "markdown",
   "metadata": {},
   "source": [
    "***\n",
    "***\n",
    "__BONUS question__ Use the expert DQN from the previous question to generate some winning games. Train a model that mimicks its behavior. Compare the performances."
   ]
  },
  {
   "cell_type": "markdown",
   "metadata": {},
   "source": []
  },
  {
   "cell_type": "markdown",
   "metadata": {},
   "source": [
    "***"
   ]
  }
 ],
 "metadata": {
  "anaconda-cloud": {},
  "kernelspec": {
   "display_name": "Python [default]",
   "language": "python",
   "name": "python3"
  },
  "language_info": {
   "codemirror_mode": {
    "name": "ipython",
    "version": 3
   },
   "file_extension": ".py",
   "mimetype": "text/x-python",
   "name": "python",
   "nbconvert_exporter": "python",
   "pygments_lexer": "ipython3",
   "version": "3.5.2"
  }
 },
 "nbformat": 4,
 "nbformat_minor": 2
}
